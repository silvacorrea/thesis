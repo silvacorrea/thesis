{
  "nbformat": 4,
  "nbformat_minor": 0,
  "metadata": {
    "colab": {
      "provenance": [],
      "authorship_tag": "ABX9TyMy7oanmIY+eNQJgqfoeTah",
      "include_colab_link": true
    },
    "kernelspec": {
      "name": "python3",
      "display_name": "Python 3"
    },
    "language_info": {
      "name": "python"
    }
  },
  "cells": [
    {
      "cell_type": "markdown",
      "metadata": {
        "id": "view-in-github",
        "colab_type": "text"
      },
      "source": [
        "<a href=\"https://colab.research.google.com/github/silvacorrea/thesis/blob/main/ROA_d1.ipynb\" target=\"_parent\"><img src=\"https://colab.research.google.com/assets/colab-badge.svg\" alt=\"Open In Colab\"/></a>"
      ]
    },
    {
      "cell_type": "code",
      "execution_count": 3,
      "metadata": {
        "colab": {
          "base_uri": "https://localhost:8080/"
        },
        "id": "A3VLG7sOXgUk",
        "outputId": "3f560756-4af7-4e74-b79c-5f5d1441e5d1"
      },
      "outputs": [
        {
          "output_type": "stream",
          "name": "stdout",
          "text": [
            "Mounted at /content/drive\n"
          ]
        }
      ],
      "source": [
        "import pandas as pd\n",
        "\n",
        "from google.colab import drive\n",
        "drive.mount('/content/drive')"
      ]
    },
    {
      "cell_type": "code",
      "source": [
        "# saving dataset4 filepath\n",
        "d4_path = '/content/drive/MyDrive/Spring 25/Thesis/Data/Dataset d4.xlsx'\n",
        "\n",
        "#loading each sheet\n",
        "fin_dev = pd.read_excel(d4_path, sheet_name='Fin Dev')\n",
        "mix = pd.read_excel(d4_path, sheet_name='MIX')\n",
        "\n",
        "#check\n",
        "# print(fin_dev.head())\n",
        "# print(mix.head())"
      ],
      "metadata": {
        "id": "Qy3JRdg8Z2wo"
      },
      "execution_count": 11,
      "outputs": []
    },
    {
      "cell_type": "code",
      "source": [
        "  #Filter MIX for ROA\n",
        "mix_roa = mix[mix['Series Name'].str.contains('Return on assets', case=False, na=False)]\n",
        "# check\n",
        " # print(mix_roa.head())\n",
        "\n",
        "  #Filter Fin DEv for ROA\n",
        "  fin_dev_roa = fin_dev[fin_dev['Series Name'].str.contains('Return on assets', case=False, na=False)]\n",
        "\n",
        " #  check\n",
        "print(fin_dev_roa.head())\n"
      ],
      "metadata": {
        "colab": {
          "base_uri": "https://localhost:8080/"
        },
        "id": "l_t9ZbPudNr5",
        "outputId": "f8a136a5-69f9-4a98-f469-d388e793914a"
      },
      "execution_count": 13,
      "outputs": [
        {
          "output_type": "stream",
          "name": "stdout",
          "text": [
            "   Country Name Country Code                           Series Name  \\\n",
            "4   Afghanistan          AFG  Bank return on assets (%, after tax)   \n",
            "11      Albania          ALB  Bank return on assets (%, after tax)   \n",
            "18       Angola          AGO  Bank return on assets (%, after tax)   \n",
            "25    Argentina          ARG  Bank return on assets (%, after tax)   \n",
            "32      Armenia          ARM  Bank return on assets (%, after tax)   \n",
            "\n",
            "   Series Code  1999      2000      2001      2002      2003      2004  ...  \\\n",
            "4   GFDD.EI.05   NaN       NaN       NaN       NaN       NaN       NaN  ...   \n",
            "11  GFDD.EI.05   NaN  2.100225  0.716358  0.678887  1.156812  0.797742  ...   \n",
            "18  GFDD.EI.05   NaN       NaN       NaN  1.435228  2.477343  2.350725  ...   \n",
            "25  GFDD.EI.05   NaN  0.498517 -0.038267 -6.697202 -3.623806 -0.573951  ...   \n",
            "32  GFDD.EI.05   NaN  0.302587  0.498464  2.552010  2.402884  3.599490  ...   \n",
            "\n",
            "        2012      2013      2014      2015      2016      2017      2018  \\\n",
            "4   0.284938  0.562770  0.466695 -0.028715  1.562586  0.558283  0.660558   \n",
            "11  0.564811  0.473714  0.674833  0.021019  0.512312  0.743320  0.519510   \n",
            "18  1.789775  1.628798  1.849687  1.726880  1.506456  1.229534  3.094245   \n",
            "25  2.939623  2.945889  3.760068  2.686500  3.410985  2.520943  2.686082   \n",
            "32  1.758199  1.498065  0.877303  0.295378  1.198676  0.783852  1.211656   \n",
            "\n",
            "        2019      2020      2021  \n",
            "4   0.917550  0.355714  1.418369  \n",
            "11  1.014829  0.995456  1.145006  \n",
            "18 -0.981886 -2.369700  3.763863  \n",
            "25  4.053496  2.515532  1.292926  \n",
            "32  1.420894  0.873189  0.714016  \n",
            "\n",
            "[5 rows x 27 columns]\n"
          ]
        }
      ]
    },
    {
      "cell_type": "code",
      "source": [
        "# reshape MIX to tidy format (row-wise) and clean column names\n",
        "\n",
        "mix_roa_tidy = mix_roa.melt(\n",
        "    id_vars=['Level', 'Insitutuon Name'],\n",
        "    value_vars=[col for col in mix.columns if isinstance(col,int)],\n",
        "    var_name='Year',\n",
        "    value_name='ROA'\n",
        ").dropna()\n",
        "\n",
        "print(mix_roa_tidy.head())\n"
      ],
      "metadata": {
        "colab": {
          "base_uri": "https://localhost:8080/"
        },
        "id": "dSl8IezKgIpi",
        "outputId": "92eb5d92-714e-40d1-82da-efa49d120bd3"
      },
      "execution_count": 29,
      "outputs": [
        {
          "output_type": "stream",
          "name": "stdout",
          "text": [
            "          Level           Insitutuon Name  Year    ROA\n",
            "66      Armenia           KAMURJ (100329)  1999 -17.70\n",
            "120  Bangladesh   ASA Bangladesh (100294)  1999   9.07\n",
            "131  Bangladesh  BRAC Bangladesh (100363)  1999   4.25\n",
            "132  Bangladesh  BURO Bangladesh (100301)  1999   0.28\n",
            "178  Bangladesh         PROSHIKA (100349)  1999   4.21\n"
          ]
        }
      ]
    },
    {
      "cell_type": "code",
      "source": [
        "# reshape to Fin_Dev tidy format (row-wise) and clean column names\n",
        "\n",
        "fin_dev_roa_tidy = fin_dev_roa.melt(\n",
        "    id_vars=['Country Name'],\n",
        "    value_vars=[col for col in fin_dev.columns if isinstance(col,int)],\n",
        "    var_name='Year',\n",
        "    value_name='ROA'\n",
        ").dropna()\n",
        "\n",
        "print(fin_dev_roa_tidy.head())"
      ],
      "metadata": {
        "colab": {
          "base_uri": "https://localhost:8080/"
        },
        "id": "yvwS810ej9et",
        "outputId": "4c061e54-3ee2-4be8-9ea5-c1298907974c"
      },
      "execution_count": 30,
      "outputs": [
        {
          "output_type": "stream",
          "name": "stdout",
          "text": [
            "    Country Name  Year       ROA\n",
            "124      Albania  2000  2.100225\n",
            "126    Argentina  2000  0.498517\n",
            "127      Armenia  2000  0.302587\n",
            "128   Azerbaijan  2000 -1.112493\n",
            "129   Bangladesh  2000  1.287880\n"
          ]
        }
      ]
    },
    {
      "cell_type": "code",
      "source": [
        "#standardized column names\n",
        "mix_roa_names = mix_roa_tidy.rename(columns={'Level':'Country','Insitutuon Name':'Institution'})\n",
        "fin_dev_roa_names = fin_dev_roa_tidy.rename(columns={'Country Name':'Country'})\n",
        "fin_dev_roa_names['Institution']='National Commercial Aggregate'"
      ],
      "metadata": {
        "id": "lZoSHPDAozFw"
      },
      "execution_count": 31,
      "outputs": []
    },
    {
      "cell_type": "code",
      "source": [
        "#combine datasets for plotting\n",
        "roa = pd.concat(\n",
        "    mix_roa_names[['Country','Institution','Year','ROA']],\n",
        "    fin_dev_roa_names[['Country','Institution','Year','ROA'\n",
        "]])\n",
        "\n",
        "#make sure year and ROA are numeric\n",
        "roa['Year']=roa['Year'].astype(int)\n",
        "roa['ROA']=pd.to_numeric(roa['ROA'], errors='coerce')\n",
        "\n",
        "#check\n",
        "print(roa.head())\n"
      ],
      "metadata": {
        "colab": {
          "base_uri": "https://localhost:8080/",
          "height": 211
        },
        "id": "lIgLvx1zpZsA",
        "outputId": "d69a6777-af62-4ab9-b6a2-231c0cf9eec1"
      },
      "execution_count": 32,
      "outputs": [
        {
          "output_type": "error",
          "ename": "TypeError",
          "evalue": "concat() takes 1 positional argument but 2 were given",
          "traceback": [
            "\u001b[0;31m---------------------------------------------------------------------------\u001b[0m",
            "\u001b[0;31mTypeError\u001b[0m                                 Traceback (most recent call last)",
            "\u001b[0;32m<ipython-input-32-9194307d6b01>\u001b[0m in \u001b[0;36m<cell line: 0>\u001b[0;34m()\u001b[0m\n\u001b[1;32m      1\u001b[0m \u001b[0;31m#combine datasets for plotting\u001b[0m\u001b[0;34m\u001b[0m\u001b[0;34m\u001b[0m\u001b[0m\n\u001b[0;32m----> 2\u001b[0;31m roa = pd.concat(\n\u001b[0m\u001b[1;32m      3\u001b[0m     \u001b[0mmix_roa_names\u001b[0m\u001b[0;34m[\u001b[0m\u001b[0;34m[\u001b[0m\u001b[0;34m'Country'\u001b[0m\u001b[0;34m,\u001b[0m\u001b[0;34m'Institution'\u001b[0m\u001b[0;34m,\u001b[0m\u001b[0;34m'Year'\u001b[0m\u001b[0;34m,\u001b[0m\u001b[0;34m'ROA'\u001b[0m\u001b[0;34m]\u001b[0m\u001b[0;34m]\u001b[0m\u001b[0;34m,\u001b[0m\u001b[0;34m\u001b[0m\u001b[0;34m\u001b[0m\u001b[0m\n\u001b[1;32m      4\u001b[0m     fin_dev_roa_names[['Country','Institution','Year','ROA'\n\u001b[1;32m      5\u001b[0m ]])\n",
            "\u001b[0;31mTypeError\u001b[0m: concat() takes 1 positional argument but 2 were given"
          ]
        }
      ]
    },
    {
      "cell_type": "code",
      "source": [
        "import plotly.express as px\n"
      ],
      "metadata": {
        "id": "QeI636zAn7e3"
      },
      "execution_count": null,
      "outputs": []
    }
  ]
}